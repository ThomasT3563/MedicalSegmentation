{
 "cells": [
  {
   "cell_type": "markdown",
   "metadata": {},
   "source": [
    "# IMPORTS"
   ]
  },
  {
   "cell_type": "code",
   "execution_count": null,
   "metadata": {},
   "outputs": [],
   "source": [
    "import tensorflow as tf\n",
    "print(\"Tensorflow version : %s\" % tf.__version__)\n",
    "\n",
    "import numpy as np\n",
    "import glob\n",
    "import os\n",
    "import csv\n",
    "import time\n",
    "\n",
    "from class_modalities.modality_PETCT import Modality_PREDICTION_PET_CT"
   ]
  },
  {
   "cell_type": "markdown",
   "metadata": {},
   "source": [
    "###### HOW TO WRITE FILENAMES IN A CSV FILE"
   ]
  },
  {
   "cell_type": "raw",
   "metadata": {},
   "source": [
    "import csv\n",
    "import glob\n",
    "import numpy as np\n",
    "\n",
    "csv_filename = \"/media/storage/projet_LYSA_TEP_3.5/TEP_CT_filenames.csv\"\n",
    "path_PetSUV = \"/media/storage/projet_LYSA_TEP_3.5/RAWDATA/PetSuv\"\n",
    "path_CtUh = \"/media/storage/projet_LYSA_TEP_3.5/RAWDATA/CtUh\"\n",
    "\n",
    "PET_ids = np.asarray(np.sort(glob.glob(path_PetSUV+'/*nii')))\n",
    "CT_ids = np.asarray(np.sort(glob.glob(path_CtUh+'/*nii')))\n",
    "\n",
    "with open(csv_filename,\"w\") as file:\n",
    "    filewriter = csv.writer(file)\n",
    "    for PET_id,CT_id in zip(PET_ids,CT_ids):\n",
    "            filewriter.writerow((PET_id,CT_id))"
   ]
  },
  {
   "cell_type": "markdown",
   "metadata": {},
   "source": [
    "# RULES"
   ]
  },
  {
   "cell_type": "code",
   "execution_count": null,
   "metadata": {},
   "outputs": [],
   "source": [
    "# REQUIRED : .csv file containing all images filenames per patient\n",
    "#           example : patient n°1 | PET | CT |\n",
    "#                     patient n°2 | PET | CT |\n",
    "#                     etc\n",
    "\n",
    "csv_filenames = \"/media/storage/projet_LYSA_TEP_3.5/TEP_CT_prediction_filenames.csv\"\n",
    "\n",
    "# definition of modality\n",
    "MODALITY = Modality_PREDICTION_PET_CT()\n",
    "\n",
    "# parameters\n",
    "trained_model_path = '/media/storage/projet_LYSA_TEP_3.5/RESULTS_PETCT_4/model_09241142.h5'\n",
    "path_output = '/media/storage/projet_LYSA_TEP_3.5/PREDICTIONS_TEPCT'\n",
    "\n",
    "# preprocess parameters\n",
    "IMAGE_SHAPE  = [368,128,128]\n",
    "PIXEL_SIZE   = [4.8,4.8,4.8]\n",
    "RESIZE       = True\n",
    "NORMALIZE    = True\n",
    "\n",
    "# TIMER\n",
    "start_tt = time.time()\n",
    "\n",
    "# prediction\n",
    "VISUALISATION_MIP = True\n",
    "\n",
    "# generates folders\n",
    "if not os.path.exists(path_output):\n",
    "    os.makedirs(path_output)\n",
    "    \n",
    "for folder in ['/PREPROCESSED_DATA','/RAW_CNN_PREDICTIONS','/POSTPROCESSED_PREDICTIONS']:\n",
    "    directory = path_output+folder\n",
    "    if not os.path.exists(directory):\n",
    "        os.makedirs(directory)"
   ]
  },
  {
   "cell_type": "markdown",
   "metadata": {},
   "source": [
    "# PREPROCESSING"
   ]
  },
  {
   "cell_type": "code",
   "execution_count": null,
   "metadata": {},
   "outputs": [],
   "source": [
    "# read filenames from csv file\n",
    "patients_filenames = []\n",
    "with open(csv_filenames,\"r\") as file:\n",
    "    filereader = csv.reader(file)\n",
    "    for row in filereader:\n",
    "        patients_filenames.append(row)\n",
    "        \n",
    "# TODO : multi core preprocessing\n",
    "\n",
    "# preprocessing\n",
    "preprocessed_filenames = MODALITY.PREPROCESS(data_set_ids=patients_filenames,\n",
    "                                             path_output=path_output+'/PREPROCESSED_DATA',\n",
    "                                             output_shape=IMAGE_SHAPE,\n",
    "                                             pixel_size=PIXEL_SIZE,\n",
    "                                             resample=RESIZE,\n",
    "                                             normalize=NORMALIZE)\n",
    "print('')"
   ]
  },
  {
   "cell_type": "markdown",
   "metadata": {},
   "source": [
    "# PREDICTION"
   ]
  },
  {
   "cell_type": "code",
   "execution_count": null,
   "metadata": {},
   "outputs": [],
   "source": [
    "# loading trained model\n",
    "trained_model = tf.keras.models.load_model(trained_model_path,compile=False)\n",
    "\n",
    "# generating predictions\n",
    "predictions_ids = MODALITY.PREDICT_MASK(data_set_ids=preprocessed_filenames,\n",
    "                                        path_predictions=path_output+'/RAW_CNN_PREDICTIONS',\n",
    "                                        trained_model=trained_model)\n",
    "print('')"
   ]
  },
  {
   "cell_type": "markdown",
   "metadata": {},
   "source": [
    "# POSTPROCESSING"
   ]
  },
  {
   "cell_type": "code",
   "execution_count": null,
   "metadata": {},
   "outputs": [],
   "source": [
    "postprocessed_ids = MODALITY.POSTPROCESS(path_output=path_output+'/POSTPROCESSED_PREDICTIONS',\n",
    "                                         data_set_ids=patients_filenames,\n",
    "                                         prediction_ids=predictions_ids,\n",
    "                                         input_pixel_size=PIXEL_SIZE,\n",
    "                                         resize=RESIZE)\n",
    "print('')"
   ]
  },
  {
   "cell_type": "code",
   "execution_count": null,
   "metadata": {},
   "outputs": [],
   "source": [
    "# TIMER\n",
    "total_tt = time.time() - start_tt\n",
    "hours = int(total_tt//3600)\n",
    "mins = int((total_tt-hours*3600)//60)\n",
    "sec = int((total_tt-hours*3600-mins*60))\n",
    "print(\"Run time = \"+str(hours)+':'+str(mins)+':'+str(sec)+' (H:M:S)')"
   ]
  },
  {
   "cell_type": "code",
   "execution_count": null,
   "metadata": {},
   "outputs": [],
   "source": [
    "if VISUALISATION_MIP:\n",
    "    filename = \"/MIP_inference_\"+time.strftime(\"%m%d%H%M%S\")+\".pdf\" \n",
    "    print(\"Generating MIP visualisation : %s\" % filename)\n",
    "    MODALITY.GENERATES_MIP_PREDICTION(path_output=path_output,\n",
    "                                      data_set_ids=preprocessed_filenames,\n",
    "                                      pred_ids=predictions_ids,\n",
    "                                      filename=filename)\n",
    "\n",
    "print('\\nDone!')"
   ]
  }
 ],
 "metadata": {
  "kernelspec": {
   "display_name": "Tensorflow GPU 2.0.0-rc1 (venv_6)",
   "language": "python",
   "name": "venv_6"
  },
  "language_info": {
   "codemirror_mode": {
    "name": "ipython",
    "version": 3
   },
   "file_extension": ".py",
   "mimetype": "text/x-python",
   "name": "python",
   "nbconvert_exporter": "python",
   "pygments_lexer": "ipython3",
   "version": "3.6.8"
  }
 },
 "nbformat": 4,
 "nbformat_minor": 2
}
